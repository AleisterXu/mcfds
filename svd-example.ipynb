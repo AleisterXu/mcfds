{
 "cells": [
  {
   "cell_type": "code",
   "execution_count": 1,
   "metadata": {},
   "outputs": [],
   "source": [
    "import numpy as np\n",
    "%matplotlib inline\n",
    "from matplotlib import pyplot\n",
    "\n",
    "import sys\n",
    "sys.path.append('../scripts/')\n",
    "\n",
    "# Our helper, with the functions: \n",
    "# plot_vector, plot_linear_transformation, plot_linear_transformations\n",
    "from plot_helper import *"
   ]
  },
  {
   "attachments": {},
   "cell_type": "markdown",
   "metadata": {},
   "source": [
    "## Example 1\n",
    "\n",
    "Consider the following four points in $\\mathbb{R}^3$: \n",
    "\n",
    "$a_1 = (-1,-0.5,0.5)^T, \\, a_2 = (2,1,-1)^T \\, a_3 = (4,2,-2)^T, a_4 = (5,2.6,-2.6)^T$. \n"
   ]
  },
  {
   "attachments": {},
   "cell_type": "markdown",
   "metadata": {},
   "source": [
    "We are looking for the best fit 1-dim and 2-dim linear subspaces of $\\mathbb{R}^3$ which **minimizes the sum of squares of perpendicular distances** from the points $a_1, a_2, a_3$ and $a_4$. In the last two lectures we learned that the so-called **greedy algorithm** finds the best **perpendicular least square fit**. Usually in the application, we have many many more points than the number of dimensions, nonetheless we can solve the perpendicular least square fit for two points and this will reveal something important.\n",
    "\n",
    "First, we put the points $a_i$ into a matrix whose rows are given by the points $a_i^T$. "
   ]
  },
  {
   "cell_type": "code",
   "execution_count": 2,
   "metadata": {},
   "outputs": [
    {
     "name": "stdout",
     "output_type": "stream",
     "text": [
      "[[-1.  -0.5  0.5]\n",
      " [ 2.   1.  -1. ]\n",
      " [ 4.   2.  -2. ]\n",
      " [ 5.   2.6 -2.6]]\n"
     ]
    }
   ],
   "source": [
    "A = np.array([[-1, -0.5, 0.5],[2,1,-1],[4,2,-2],[5,2.6,-2.6]])\n",
    "print(A)"
   ]
  },
  {
   "attachments": {},
   "cell_type": "markdown",
   "metadata": {},
   "source": [
    "To get the singular values and singular vectors of $A$ we compute the eigenvalues and eigenvectors of square symmetric matrices $A^T A$ and $A A^T$. \n",
    "\n",
    "We recall that given an SVD factorization $A = U \\Sigma V^T$, we have: \n",
    "- The non-zero **singular values** of $A$ (i.e. the non-zero diagonal entries of $\\Sigma$) are the square-root of non-zero eigenvalues of $A^T \\, A$ (same as non-zero eigenvalues of $A A^T$).\n",
    "- The **right** singular eigenvectors (i.e. the columns of $V$) of $A$ are the eigenvectors of $A^T \\, A$. \n",
    "- The **left** singular eigenvectors (i.e. the columns of $U$) of $A$ are the eigenvectors of $A \\, A^T$. \n",
    "\n",
    "To see why these statements are true, observe that \n",
    "\n",
    "$$ A^T \\, A = (U \\Sigma V^T)^T (U \\Sigma V^T) = (V^T)^T \\Sigma^T U^T U \\Sigma V^T = V \\Sigma^T \\Sigma V^T$$ \n",
    "which is a spectral decomposition of $A^T \\, A$, and \n",
    "\n",
    "$$ A \\, A^T = (U \\Sigma V^T) (U \\Sigma V^T)^T = U \\Sigma V^T V \\Sigma^T U^T = U \\Sigma^T \\Sigma U^T$$ \n",
    "which is a spectral decomposition of $A \\, A^T$. \n",
    "\n",
    "\n",
    "Let's compute the matrices $A^T \\, A$ and $A \\, A^T$. "
   ]
  },
  {
   "cell_type": "code",
   "execution_count": 3,
   "metadata": {},
   "outputs": [
    {
     "name": "stdout",
     "output_type": "stream",
     "text": [
      "[[-1.   2.   4.   5. ]\n",
      " [-0.5  1.   2.   2.6]\n",
      " [ 0.5 -1.  -2.  -2.6]]\n",
      "\n",
      " AT A:\n",
      "[[ 46.    23.5  -23.5 ]\n",
      " [ 23.5   12.01 -12.01]\n",
      " [-23.5  -12.01  12.01]]\n",
      "\n",
      " A AT:\n",
      "[[ 1.5  -3.   -6.   -7.6 ]\n",
      " [-3.    6.   12.   15.2 ]\n",
      " [-6.   12.   24.   30.4 ]\n",
      " [-7.6  15.2  30.4  38.52]]\n"
     ]
    }
   ],
   "source": [
    "print(A.transpose())\n",
    "\n",
    "print (\"\\n AT A:\")\n",
    "print(A.transpose() @ A)\n",
    "\n",
    "\n",
    "print (\"\\n A AT:\")\n",
    "print(A @ A.transpose())"
   ]
  },
  {
   "attachments": {},
   "cell_type": "markdown",
   "metadata": {},
   "source": [
    "We notice that both matrices $A$ and $A^T A$ are not of full rank since in $A$ the second and the third columns are scalars of the first column and in the matrix $A^T A$ the second and the third columns are linearly dependent. \n",
    "\n",
    "We can compute the ranks of matrices using the function `np.linalg.matrix_rank`. "
   ]
  },
  {
   "cell_type": "code",
   "execution_count": 4,
   "metadata": {},
   "outputs": [
    {
     "name": "stdout",
     "output_type": "stream",
     "text": [
      "The rank of matrix A is 2 which is less than 3 (the number of columns)\n",
      "The rank of matrix (AT A) is 2 which is less than 3 (the number of columns)\n"
     ]
    }
   ],
   "source": [
    "print(\"The rank of matrix A is\", np.linalg.matrix_rank(A), \"which is less than\", A.shape[1], \"(the number of columns)\")\n",
    "\n",
    "print(\"The rank of matrix (AT A) is\", np.linalg.matrix_rank(A.transpose() @ A), \"which is less than\", (A.transpose() @ A).shape[1], \"(the number of columns)\")"
   ]
  },
  {
   "attachments": {},
   "cell_type": "markdown",
   "metadata": {},
   "source": [
    "We can compute the eigenvalues and eigenvectors of a matrix using [`numpy.linalg.eig()`](https://docs.scipy.org/doc/numpy/reference/generated/numpy.linalg.eig.html). It returns a tuple: its first element is an array with the eigenvalues, and its second element is a 2D array where each column is an eigenvector.\n",
    "The matrix $A^T A$ is a singular 3-by-3 symmetric matrix and therefore, and therefore, at least one of its eigenvalues is zero. "
   ]
  },
  {
   "cell_type": "code",
   "execution_count": 5,
   "metadata": {},
   "outputs": [
    {
     "data": {
      "text/plain": [
       "(array([ 7.00140012e+01,  5.99880014e-03, -2.08113149e-15]),\n",
       " array([[ 8.10544295e-01,  5.85677340e-01, -6.93953889e-14],\n",
       "        [ 4.14136418e-01, -5.73141367e-01,  7.07106781e-01],\n",
       "        [-4.14136418e-01,  5.73141367e-01,  7.07106781e-01]]))"
      ]
     },
     "execution_count": 5,
     "metadata": {},
     "output_type": "execute_result"
    }
   ],
   "source": [
    "np.linalg.eig(A.transpose() @ A)"
   ]
  },
  {
   "cell_type": "markdown",
   "metadata": {},
   "source": [
    "This is a little unreadable. First, we want to extract all the eigenvalues and ignore the eigenvectors. We do this by projecting out the first coordinate of eigenvalue-eigenvector pairs. "
   ]
  },
  {
   "cell_type": "code",
   "execution_count": 6,
   "metadata": {},
   "outputs": [
    {
     "data": {
      "text/plain": [
       "array([ 7.00140012e+01,  5.99880014e-03, -2.08113149e-15])"
      ]
     },
     "execution_count": 6,
     "metadata": {},
     "output_type": "execute_result"
    }
   ],
   "source": [
    "np.linalg.eig(A.transpose() @ A)[0]"
   ]
  },
  {
   "attachments": {},
   "cell_type": "markdown",
   "metadata": {},
   "source": [
    "This shows that the first two eigenvalues are non-zero and the last one is zero (accounting for the rounding error in the floating real number computation). \n",
    "\n",
    "Now, we extract the eigenvectors corresponding to the eigenvalues we just got."
   ]
  },
  {
   "cell_type": "code",
   "execution_count": 7,
   "metadata": {},
   "outputs": [
    {
     "data": {
      "text/plain": [
       "array([[ 8.10544295e-01,  5.85677340e-01, -6.93953889e-14],\n",
       "       [ 4.14136418e-01, -5.73141367e-01,  7.07106781e-01],\n",
       "       [-4.14136418e-01,  5.73141367e-01,  7.07106781e-01]])"
      ]
     },
     "execution_count": 7,
     "metadata": {},
     "output_type": "execute_result"
    }
   ],
   "source": [
    "np.linalg.eig(A.transpose() @ A)[1]"
   ]
  },
  {
   "attachments": {},
   "cell_type": "markdown",
   "metadata": {},
   "source": [
    "The columns in the array above gives the right singular vectors. For instance the first right singular vector is \n",
    "\n",
    "$$\\begin{bmatrix} .810544295  \\\\ .414136418 \\\\ -.414136418   \\end{bmatrix} $$"
   ]
  },
  {
   "cell_type": "markdown",
   "metadata": {},
   "source": [
    "We could have computed the singular values directly using [`numpy.linalg.svd()`](https://docs.scipy.org/doc/numpy/reference/generated/numpy.linalg.svd.html). It returns a tuple: the first element is a 2D array where each column is a left singular vector, the second element is a 1D array of the singular values, and the third element is a 2D array where each row is a right singular vector."
   ]
  },
  {
   "cell_type": "code",
   "execution_count": 8,
   "metadata": {},
   "outputs": [],
   "source": [
    "U, S, VT = numpy.linalg.svd(A)"
   ]
  },
  {
   "cell_type": "code",
   "execution_count": 9,
   "metadata": {},
   "outputs": [
    {
     "name": "stdout",
     "output_type": "stream",
     "text": [
      "\n",
      " S:\n",
      "[8.36743696e+00 7.74519215e-02 2.57165975e-18]\n",
      "\n",
      " U:\n",
      "[[-1.46362706e-01 -1.61854892e-01 -9.63564620e-01 -1.54674419e-01]\n",
      " [ 2.92725412e-01  3.23709783e-01 -2.38117909e-01  8.67654120e-01]\n",
      " [ 5.85450823e-01  6.47419567e-01 -1.21832201e-01 -4.72495665e-01]\n",
      " [ 7.41712293e-01 -6.70718178e-01  2.33730989e-15  4.13289860e-16]]\n",
      "\n",
      " V:\n",
      "[[ 0.81054429  0.58567734  0.        ]\n",
      " [ 0.41413642 -0.57314137  0.70710678]\n",
      " [-0.41413642  0.57314137  0.70710678]]\n"
     ]
    }
   ],
   "source": [
    "print (\"\\n S:\")\n",
    "print (S)\n",
    "\n",
    "print (\"\\n U:\")\n",
    "print (U)\n",
    "\n",
    "print (\"\\n V:\")\n",
    "print (VT.T)"
   ]
  },
  {
   "cell_type": "code",
   "execution_count": 10,
   "metadata": {},
   "outputs": [
    {
     "name": "stdout",
     "output_type": "stream",
     "text": [
      "v1:  [ 0.81054429  0.41413642 -0.41413642]\n",
      "v2:  [ 0.58567734 -0.57314137  0.57314137]\n"
     ]
    }
   ],
   "source": [
    "v1 = VT.T[ : , 0]\n",
    "v2 = VT.T[ : , 1]\n",
    "\n",
    "print (\"v1: \" , v1)\n",
    "print(\"v2: \",  v2)"
   ]
  },
  {
   "cell_type": "code",
   "execution_count": 11,
   "metadata": {},
   "outputs": [
    {
     "name": "stdout",
     "output_type": "stream",
     "text": [
      "1.9571915404196962\n"
     ]
    }
   ],
   "source": [
    "print (v1[0]/v1[1])"
   ]
  },
  {
   "attachments": {},
   "cell_type": "markdown",
   "metadata": {},
   "source": [
    "Therefore, the best fit line in $\\mathbb{R}^3$ which minimizes the sum of squares of perpendicular distances is the line spanned by the vector \n",
    "$$v_1 = \\begin{bmatrix} .810544295 \\\\ .414136418 \\\\ -.414136418   \\end{bmatrix} $$\n",
    "\n",
    "This line can be described by the set\n",
    "$$ \\{  \\lambda v_1 \\mid \\lambda \\in \\mathbb{R} \\} = \\bigg\\{ \\begin{bmatrix} 1.95719152157639 \\lambda  \\\\ \\lambda \\\\  - \\lambda  \\end{bmatrix} \\mid  \\lambda \\in \\mathbb{R}  \\bigg\\} $$\n",
    "\n",
    "which is very close to the line \n",
    "\n",
    "$$ \\{  \\lambda v_1 \\mid \\lambda \\in \\mathbb{R} \\} = \\bigg\\{ \\begin{bmatrix} 2 \\lambda  \\\\ \\lambda \\\\  - \\lambda  \\end{bmatrix} \\mid  \\lambda \\in \\mathbb{R}  \\bigg\\} $$\n",
    "\n",
    "We should have known this even before using SVD and Greedy Algorithm since all the points $$a_1 = (-1,-0.5,0.5)^T, \\, a_2 = (2,1,-1)^T \\, a_3 = (4,2,-2)^T$$ are collinear, as they are on the line spanned by the vector $v_1 = (2,1,-1)^T$, and the point $a_4$ is almost on this line. Therefore this is the line which is the closest to these points. We could have guessed this before SVD. \n",
    "\n",
    "What is the best fit plane for these points. Greedy algorithm tells us that is the plane generated by the vector $v_1$ and \n",
    "\n",
    "$$ v_2  = \\begin{bmatrix} 0.58567734  \\\\ .414136418 \\\\ -.414136418   \\end{bmatrix}  $$ \n",
    "\n"
   ]
  },
  {
   "attachments": {},
   "cell_type": "markdown",
   "metadata": {},
   "source": [
    "We would like to find a way to visualize this plane. Here's the idea: given vectors $v_1$ and $v_2$ we find a vector perpendicular to the plane spanned by them. This is the so-called normal vector and is given by the cross-product of $v_1$ and $v_2$. \n",
    "\n",
    "$$\\vec{v_1}\\times\\vec{v_2}=\n",
    "\\mathrm{det}\n",
    "\\begin{bmatrix}\n",
    "      \\hat{i} & \\hat{j} & \\hat{k}\\\\ \n",
    "      v_{11} &   v_{12} & v_{13} \\\\ \n",
    "      v_{21} &   v_{22} & v_{23}\n",
    "   \\end{bmatrix}$$"
   ]
  },
  {
   "cell_type": "code",
   "execution_count": 12,
   "metadata": {},
   "outputs": [
    {
     "name": "stdout",
     "output_type": "stream",
     "text": [
      "The equation describing the plane spanned by v1 and v2 is 2.7755575615628914e-17x + -0.7071067811865475y + -0.7071067811865472z = 0\n"
     ]
    }
   ],
   "source": [
    "# the cross product is a vector normal to the plane\n",
    "cp = np.cross(v1, v2)\n",
    "a, b, c = cp\n",
    "\n",
    "print('The equation describing the plane spanned by v1 and v2 is {0}x + {1}y + {2}z = 0'.format(a, b, c))\n",
    "\n",
    "\n"
   ]
  },
  {
   "cell_type": "code",
   "execution_count": 13,
   "metadata": {},
   "outputs": [
    {
     "data": {
      "image/png": "[encoded data removed]",
      "text/plain": [
       "<Figure size 640x480 with 1 Axes>"
      ]
     },
     "metadata": {},
     "output_type": "display_data"
    }
   ],
   "source": [
    "import matplotlib.pyplot as plt\n",
    "from mpl_toolkits.mplot3d import Axes3D\n",
    "fig = plt.figure()\n",
    "ax = fig.add_subplot(111, projection='3d')\n",
    "\n",
    "\n",
    "plt.xlabel(\"x\")\n",
    "plt.ylabel(\"y\")\n",
    "\n",
    "x = np.linspace(-5, 5, 5)\n",
    "y = np.linspace(-5, 5, 5)\n",
    "X, Y = np.meshgrid(x, y)\n",
    "\n",
    "Z = (- a * X - b * Y) / c\n",
    "\n",
    "\n",
    "\n",
    "\n",
    "# plot the mesh. Each array is 2D, so we flatten them to 1D arrays\n",
    "ax.plot(X.flatten(),\n",
    "        Y.flatten(),\n",
    "        Z.flatten(), 'bo ')\n",
    "\n",
    "\n",
    "\n",
    "# plot the original points. We use zip to get 1D lists of x, y and z\n",
    "# coordinates.\n",
    "# ax.plot(*zip(p1, p2, p3), color='r', linestyle=' ', marker='o')\n",
    "\n",
    "# adjust the view so we can see the point/plane alignment\n",
    "#ax.view_init(0, 22)\n",
    "plt.tight_layout()\n",
    "# plt.savefig('images/plane.png')\n",
    "plt.show()\n",
    "\n",
    "\n",
    "\n"
   ]
  },
  {
   "attachments": {},
   "cell_type": "markdown",
   "metadata": {},
   "source": [
    "## Example 2\n",
    "\n",
    "Consider the following two points in $\\mathbb{R}^3$: \n",
    "\n",
    "$a_1 = (1,-2,1)^T, \\, a_2 = (0,0,1)^T$"
   ]
  },
  {
   "attachments": {},
   "cell_type": "markdown",
   "metadata": {},
   "source": [
    "Again, we are looking for the best fit 1-dim and 2-dim linear subspaces of $\\mathbb{R}^3$ which **minimizes the sum of squares of perpendicular distances** from the points $a_1$ and $a_2$. Note that these points are colinear as for any two distinct points there is a unique line in $\\mathbb{R}^3$ which passes through them. This line is given by the collection of all vectors \n",
    "$$ \\alpha \\begin{bmatrix} -1 \\\\ 2 \\\\ 0  \\end{bmatrix} + \\begin{bmatrix} 0 \\\\ 0 \\\\ 1  \\end{bmatrix}  = \\begin{bmatrix} - \\alpha \\\\ 2 \\alpha \\\\ 1  \\end{bmatrix}$$ \n",
    "\n",
    "for all real numbers $\\alpha$. Note that this line is an affine line, that is it does not pass through the origin. As such this affine line is not a linear subspace since every linear subspace must have the origin in it. So, we expect that the greedy algorithm for finding the best perpendicular linear subspace should not return this affine line as its output. \n",
    "\n",
    "To see what the output of the greedy algorithm is, put the points $a_i$ into a matrix whose rows are given by the points $a_i^T$. "
   ]
  },
  {
   "cell_type": "code",
   "execution_count": 14,
   "metadata": {},
   "outputs": [
    {
     "name": "stdout",
     "output_type": "stream",
     "text": [
      "[[ 1 -2  1]\n",
      " [ 0  0  1]]\n"
     ]
    }
   ],
   "source": [
    "A = np.array([[1,-2,1], [0,0,1]])\n",
    "print(A)"
   ]
  },
  {
   "attachments": {},
   "cell_type": "markdown",
   "metadata": {},
   "source": [
    "Let's compute the SVD of $A$. "
   ]
  },
  {
   "cell_type": "code",
   "execution_count": 15,
   "metadata": {},
   "outputs": [],
   "source": [
    "U, S, VT = numpy.linalg.svd(A)"
   ]
  },
  {
   "cell_type": "code",
   "execution_count": 16,
   "metadata": {},
   "outputs": [
    {
     "name": "stdout",
     "output_type": "stream",
     "text": [
      "\n",
      " S:\n",
      "[2.48848998 0.89856419]\n",
      "\n",
      " U:\n",
      "[[ 0.98195639 -0.18910752]\n",
      " [ 0.18910752  0.98195639]]\n",
      "\n",
      " V:\n",
      "[[ 3.94599292e-01 -2.10455217e-01 -8.94427191e-01]\n",
      " [-7.89198585e-01  4.20910435e-01 -4.47213595e-01]\n",
      " [ 4.70592172e-01  8.82350841e-01  1.51208770e-16]]\n"
     ]
    }
   ],
   "source": [
    "print (\"\\n S:\")\n",
    "print (S)\n",
    "\n",
    "print (\"\\n U:\")\n",
    "print (U)\n",
    "\n",
    "print (\"\\n V:\")\n",
    "print (VT.T)"
   ]
  },
  {
   "attachments": {},
   "cell_type": "markdown",
   "metadata": {},
   "source": [
    "## Example 3\n",
    "\n",
    "Consider the following points in $\\mathbb{R}^3$: \n",
    "\n",
    "$a_1 = (1,0,0)^T, \\, a_2 = (-1,1,0)^T, \\, a_3 = (0,-1,1)^T, \\, a_4 = (0,0,1)^T$"
   ]
  },
  {
   "attachments": {},
   "cell_type": "markdown",
   "metadata": {},
   "source": [
    "We are looking for the best fit 1-dim and 2-dim linear subspaces of $\\mathbb{R}^3$ which **minimizes the sum of squares of perpendicular distances** from the points $a_1, a_2, a_3$, and $a_4$. In the last two lectures we learned that the so-called greedy algorithm finds the best **perpendicular least square fit**. First, we put the points $a_i$ into a matrix whose rows are given by the points $a_i^T$. "
   ]
  },
  {
   "cell_type": "code",
   "execution_count": 17,
   "metadata": {},
   "outputs": [
    {
     "name": "stdout",
     "output_type": "stream",
     "text": [
      "[[ 1  0  0]\n",
      " [-1  1  0]\n",
      " [ 0 -1  1]\n",
      " [ 0  0 -1]]\n"
     ]
    }
   ],
   "source": [
    "A = np.array([[1,0,0], [-1,1,0], [0,-1,1], [0,0,-1]])\n",
    "print(A)"
   ]
  },
  {
   "attachments": {},
   "cell_type": "markdown",
   "metadata": {},
   "source": [
    "The matrix $A$ is known as the matrix of **finite differences** since \n",
    "\n",
    "$$ A \\begin{bmatrix} x_1 \\\\ x_2 \\\\ x_3 \\end{bmatrix} = \\begin{bmatrix} x_1 \\\\ x_2 - x_1 \\\\ x_3 - x_2 \\\\ x_3 \\end{bmatrix} $$ \n",
    "\n",
    "To get the singular values and singular vectors of $A$ we are interested in computing the eigenvalues and eigenvectors of square symmetric matrices $A^T A$ and $A A^T$. First let's see what they are. \n",
    "\n",
    "To get the singular values and singular vectors of $A$ we are interested in computing the eigenvalues and eigenvectors of square symmetric matrices $A^T A$ and $A A^T$. First let's see what they are. "
   ]
  },
  {
   "cell_type": "code",
   "execution_count": 18,
   "metadata": {},
   "outputs": [
    {
     "name": "stdout",
     "output_type": "stream",
     "text": [
      "[[ 1 -1  0  0]\n",
      " [ 0  1 -1  0]\n",
      " [ 0  0  1 -1]]\n",
      "\n",
      " A^T A:\n",
      "[[ 2 -1  0]\n",
      " [-1  2 -1]\n",
      " [ 0 -1  2]]\n",
      "\n",
      " A A^T:\n",
      "[[ 1 -1  0  0]\n",
      " [-1  2 -1  0]\n",
      " [ 0 -1  2 -1]\n",
      " [ 0  0 -1  1]]\n"
     ]
    }
   ],
   "source": [
    "print(A.transpose())\n",
    "\n",
    "print (\"\\n A^T A:\")\n",
    "print(A.transpose() @ A)\n",
    "\n",
    "\n",
    "print (\"\\n A A^T:\")\n",
    "print(A @ A.transpose())\n",
    "\n"
   ]
  },
  {
   "attachments": {},
   "cell_type": "markdown",
   "metadata": {},
   "source": [
    "We can compute the eigenvalues and eigenvectors of a matrix using [`numpy.linalg.eig()`](https://docs.scipy.org/doc/numpy/reference/generated/numpy.linalg.eig.html). It returns a tuple: its first element is an array with the eigenvalues, and its second element is a 2D array where each column is an eigenvector.\n",
    "\n",
    "Our matrix is a full rank 3 by 3 symmetric matrix and therefore all its eigenvalues are non-zero real numbers. "
   ]
  },
  {
   "cell_type": "code",
   "execution_count": 19,
   "metadata": {},
   "outputs": [
    {
     "data": {
      "text/plain": [
       "(array([3.41421356, 2.        , 0.58578644]),\n",
       " array([[-5.00000000e-01, -7.07106781e-01,  5.00000000e-01],\n",
       "        [ 7.07106781e-01,  5.09486455e-16,  7.07106781e-01],\n",
       "        [-5.00000000e-01,  7.07106781e-01,  5.00000000e-01]]))"
      ]
     },
     "execution_count": 19,
     "metadata": {},
     "output_type": "execute_result"
    }
   ],
   "source": [
    "np.linalg.eig(A.transpose() @ A)"
   ]
  },
  {
   "attachments": {},
   "cell_type": "markdown",
   "metadata": {},
   "source": [
    "We can extract first all the eigenvalues as follows:"
   ]
  },
  {
   "cell_type": "code",
   "execution_count": 20,
   "metadata": {},
   "outputs": [
    {
     "data": {
      "text/plain": [
       "array([3.41421356, 2.        , 0.58578644])"
      ]
     },
     "execution_count": 20,
     "metadata": {},
     "output_type": "execute_result"
    }
   ],
   "source": [
    "np.linalg.eig(A.transpose() @ A)[0]"
   ]
  },
  {
   "attachments": {},
   "cell_type": "markdown",
   "metadata": {},
   "source": [
    "Note that these are float approximations to $2 + \\sqrt{2}$, $2$, and $2- \\sqrt{2}$. \n",
    "\n",
    "We can also separately get all the eigenvectors:"
   ]
  },
  {
   "cell_type": "code",
   "execution_count": 21,
   "metadata": {},
   "outputs": [
    {
     "data": {
      "text/plain": [
       "array([[-5.00000000e-01, -7.07106781e-01,  5.00000000e-01],\n",
       "       [ 7.07106781e-01,  5.09486455e-16,  7.07106781e-01],\n",
       "       [-5.00000000e-01,  7.07106781e-01,  5.00000000e-01]])"
      ]
     },
     "execution_count": 21,
     "metadata": {},
     "output_type": "execute_result"
    }
   ],
   "source": [
    "np.linalg.eig(A.transpose() @ A)[1]"
   ]
  },
  {
   "attachments": {},
   "cell_type": "markdown",
   "metadata": {},
   "source": [
    "Let's display each eigenvalue with the corresponding eigenvector, side by side."
   ]
  },
  {
   "cell_type": "code",
   "execution_count": 22,
   "metadata": {},
   "outputs": [
    {
     "name": "stdout",
     "output_type": "stream",
     "text": [
      "3.4142135623730923 [-0.5         0.70710678 -0.5       ]\n",
      "2.0 [-7.07106781e-01  5.09486455e-16  7.07106781e-01]\n",
      "0.5857864376269046 [0.5        0.70710678 0.5       ]\n"
     ]
    }
   ],
   "source": [
    "eigenvalues, eigenvectors = np.linalg.eig(A.transpose() @ A)\n",
    "\n",
    "for eigenvalue, eigenvector in zip(eigenvalues, eigenvectors.T):\n",
    "    print(eigenvalue, eigenvector)"
   ]
  },
  {
   "attachments": {},
   "cell_type": "markdown",
   "metadata": {},
   "source": [
    "To create the diagonal matrix of eigenvalues, use [`numpy.diag()`](https://docs.scipy.org/doc/numpy/reference/generated/numpy.diag.html): if you give it a 1D array, it returns a 2D array with the elements of the input array in the diagonal. \n",
    "\n",
    "The eigendecomposition is shown below: "
   ]
  },
  {
   "cell_type": "code",
   "execution_count": 23,
   "metadata": {},
   "outputs": [
    {
     "name": "stdout",
     "output_type": "stream",
     "text": [
      "[[3.41421356 0.         0.        ]\n",
      " [0.         2.         0.        ]\n",
      " [0.         0.         0.58578644]]\n",
      "[[-5.00000000e-01 -7.07106781e-01  5.00000000e-01]\n",
      " [ 7.07106781e-01  5.09486455e-16  7.07106781e-01]\n",
      " [-5.00000000e-01  7.07106781e-01  5.00000000e-01]]\n",
      "[[ 2.00000000e+00 -1.00000000e+00 -8.58450316e-16]\n",
      " [-1.00000000e+00  2.00000000e+00 -1.00000000e+00]\n",
      " [-7.67631909e-16 -1.00000000e+00  2.00000000e+00]]\n"
     ]
    }
   ],
   "source": [
    "X = eigenvectors\n",
    "A_decomp = X @ numpy.diag(eigenvalues) @ numpy.linalg.inv(X)\n",
    "\n",
    "print(numpy.diag(eigenvalues))\n",
    "print(X)\n",
    "print(A_decomp)"
   ]
  },
  {
   "attachments": {},
   "cell_type": "markdown",
   "metadata": {},
   "source": [
    "Note that these eigenvectors are the **right singular vectors** of the matrix $A$. Putting them as columns of a matrix results in the orthogonal matrix $V$ is the SVD factorization $A = U \\Sigma V^T$. \n",
    "\n",
    "\n",
    "Indeed, if we compute these eigenvectors by hand we notice that the matrix $V$ is in fact given by \n",
    "\n",
    "\n",
    "$$V = \\begin{bmatrix} \\frac{-1}{2} & \\frac{-\\sqrt{2}}{2} &  \\frac{1}{2} \\\\ \\\\ \\frac{\\sqrt{2}}{2} & 0 & \\frac{\\sqrt{2}}{2} \\\\ \\\\  \\frac{-1}{2} &  \\frac{\\sqrt{2}}{2} & \\frac{1}{2} \\end{bmatrix}$$\n",
    "\n",
    "Another good choice for the matrix $V$ of right singular vectors is the Discrete Sine Transform whose $ij$-entry is given by the formula $\\sin(i \\, j \\,  \\pi/4)$: \n",
    "\n",
    "$$\\frac{1}{\\sqrt{2}}\n",
    "\\begin{bmatrix} \\sin(\\frac{\\pi}{4}) & \\sin(\\frac{2\\pi}{4}) &  \\sin(3\\frac{\\pi}{4}) \\\\ \\\\ \\sin(\\frac{2\\pi}{4}) & \\sin(\\frac{4\\pi}{4}) & \\sin(\\frac{6\\pi}{4}) \\\\ \\\\  \\sin(\\frac{3\\pi}{4}) &  \\sin(\\frac{6\\pi}{4}) & \\sin(\\frac{9\\pi}{4}) \\end{bmatrix}$$\n",
    "\n",
    "\n",
    "In any case, note that as expected $V$ is an orthonormal matrix. "
   ]
  },
  {
   "attachments": {},
   "cell_type": "markdown",
   "metadata": {},
   "source": [
    "Let's confirm that the non-zero eigenvalues of $A A^T$ agree with the eigenvalues of $A^T A$. "
   ]
  },
  {
   "cell_type": "code",
   "execution_count": 24,
   "metadata": {},
   "outputs": [
    {
     "data": {
      "text/plain": [
       "array([3.41421356e+00, 2.00000000e+00, 1.75356880e-19, 5.85786438e-01])"
      ]
     },
     "execution_count": 24,
     "metadata": {},
     "output_type": "execute_result"
    }
   ],
   "source": [
    "np.linalg.eig(A @ A.transpose())[0]"
   ]
  },
  {
   "attachments": {},
   "cell_type": "markdown",
   "metadata": {},
   "source": [
    "The matrix $A A^T$ is singular and therefore one of its eigenvalues is zero: the one that `Python` represents by the floating number $1.75356880e-19$. "
   ]
  },
  {
   "attachments": {},
   "cell_type": "markdown",
   "metadata": {},
   "source": [
    "Similarly, the matrix $U$ in the SVD $A = U \\, \\Sigma \\, V^T$ is obtained as the matrix whose columns are the eigenvectors of $A A^T$. Again, the spectral theorem ensures an orthonormal $U$. \n",
    "\n",
    "A good choice of matrix $U$ of **left singular vectors** is the Discrete Cosine Transform (DCT) whose $ij$-entry is given by the formula $$\\cos( \\, i + \\frac{1}{2} )\\, j \\, (π/4).$$"
   ]
  },
  {
   "attachments": {},
   "cell_type": "markdown",
   "metadata": {},
   "source": [
    "The DCT matrices have been essential to the JPEG image compressions. "
   ]
  },
  {
   "attachments": {},
   "cell_type": "markdown",
   "metadata": {},
   "source": [
    "We could have computed the singular values directly using [`numpy.linalg.svd()`](https://docs.scipy.org/doc/numpy/reference/generated/numpy.linalg.svd.html). It returns a tuple: the first element is a 2D array where each column is a left singular vector, the second element is a 1D array of the singular values, and the third element is a 2D array where each row is a right singular vector."
   ]
  },
  {
   "cell_type": "code",
   "execution_count": 25,
   "metadata": {},
   "outputs": [],
   "source": [
    "U, S, VT = numpy.linalg.svd(A)\n",
    "\n"
   ]
  },
  {
   "cell_type": "code",
   "execution_count": 26,
   "metadata": {},
   "outputs": [
    {
     "name": "stdout",
     "output_type": "stream",
     "text": [
      "\n",
      " S:\n",
      "[1.84775907 1.41421356 0.76536686]\n",
      "\n",
      " U:\n",
      "[[-0.27059805  0.5         0.65328148  0.5       ]\n",
      " [ 0.65328148 -0.5         0.27059805  0.5       ]\n",
      " [-0.65328148 -0.5        -0.27059805  0.5       ]\n",
      " [ 0.27059805  0.5        -0.65328148  0.5       ]]\n",
      "\n",
      " V:\n",
      "[[-5.00000000e-01  7.07106781e-01  5.00000000e-01]\n",
      " [ 7.07106781e-01 -3.17973149e-15  7.07106781e-01]\n",
      " [-5.00000000e-01 -7.07106781e-01  5.00000000e-01]]\n"
     ]
    }
   ],
   "source": [
    "print (\"\\n S:\")\n",
    "print (S)\n",
    "\n",
    "print (\"\\n U:\")\n",
    "print (U)\n",
    "\n",
    "print (\"\\n V:\")\n",
    "print (VT.T)"
   ]
  },
  {
   "cell_type": "markdown",
   "metadata": {},
   "source": [
    "Let us loop over each pair of singular values and singular vectors, and print them out. Note that to print the column vector of $U$, we need to use its transpose in the `for` statement."
   ]
  },
  {
   "cell_type": "code",
   "execution_count": 27,
   "metadata": {},
   "outputs": [
    {
     "name": "stdout",
     "output_type": "stream",
     "text": [
      "1.8477590650225733 [-0.27059805  0.65328148 -0.65328148  0.27059805] [-0.5         0.70710678 -0.5       ]\n",
      "1.4142135623730951 [ 0.5 -0.5 -0.5  0.5] [ 7.07106781e-01 -3.17973149e-15 -7.07106781e-01]\n",
      "0.7653668647301797 [ 0.65328148  0.27059805 -0.27059805 -0.65328148] [0.5        0.70710678 0.5       ]\n"
     ]
    }
   ],
   "source": [
    "for u, s, v in zip(U.T, S, VT):\n",
    "    print(s, u, v)"
   ]
  },
  {
   "attachments": {},
   "cell_type": "markdown",
   "metadata": {},
   "source": [
    "Now that we have found SVD of $A$ we can answer the questions posed at the beginning: \n",
    "\n",
    "- The best fit 1-dim subspace is the line spanned by the first right singular vector, namely the line spanned by the vector \n",
    "$$v_1 = \\begin{bmatrix} \\frac{-1}{2} \\\\ \\\\ \\frac{\\sqrt{2}}{2}  \\\\ \\\\  \\frac{-1}{2}  \\end{bmatrix}$$\n",
    "\n",
    "- The best fit 1-dim subspace is the line spanned by the first right singular vector, namely the plane spanned by the vectors \n",
    "$$v_1 = \\begin{bmatrix} \\frac{-1}{2} \\\\ \\\\ \\frac{\\sqrt{2}}{2}  \\\\ \\\\  \\frac{-1}{2}  \\end{bmatrix} \\, \\quad \\text{and} \\quad \\, v_2 = \\begin{bmatrix} \\frac{-\\sqrt{2}}{2} \\\\ \\\\ 0  \\\\ \\\\  \\frac{\\sqrt{2}}{2}  \\end{bmatrix}  $$\n",
    "namely all linear combinations $ c_1 v_1 + c_2 v_2$ for real numbers $c_1$ and $c_2$. "
   ]
  }
 ],
 "metadata": {
  "kernelspec": {
   "display_name": "base",
   "language": "python",
   "name": "python3"
  },
  "language_info": {
   "codemirror_mode": {
    "name": "ipython",
    "version": 3
   },
   "file_extension": ".py",
   "mimetype": "text/x-python",
   "name": "python",
   "nbconvert_exporter": "python",
   "pygments_lexer": "ipython3",
   "version": "3.9.13"
  },
  "orig_nbformat": 4,
  "vscode": {
   "interpreter": {
    "hash": "e7943809e827f2ce7da8c5b2d12a479f6c08cd6fd5cc5e4389af6fb02edc8fdc"
   }
  }
 },
 "nbformat": 4,
 "nbformat_minor": 2
}
