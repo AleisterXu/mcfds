{
 "cells": [
  {
   "attachments": {},
   "cell_type": "markdown",
   "metadata": {},
   "source": [
    "# Homework 1 (Mathematical and Computational Foundations of Data Science)\n",
    "- Instructor: [Sina Hazratpour](https://sinhp.github.io)\n",
    "- Zulip server: [mcfds.zulipchat.com](https://mcfds.zulipchat.com)\n",
    "\n",
    "\n",
    "## Homework Policies\n",
    "Homework should be submitted through Gradescope. The code needed to access gradescope was sent via e-mail.\n",
    "\n",
    "All answers should be fully motivated, with logically complete arguments and motivations. No late homework will be accepted. \n",
    "\n",
    "All submitted homework must be written up individually without consulting anyone else’s written solution.\n",
    "\n",
    "The submission of homework that require coding needs to be fully commented, the inputs and and outputs (text and/or figures) clearly explained. Both the correctness of the code and the clarity of comments will contribute to the grade you receive. Often the commenting is more extensive than the code itself. You should discuss the outputs of your code, critically and as needed in order to answer specific questions in the problems, so that the questions are fully answered. Outputs without comments/discussion will not be counted.\n",
    "\n"
   ]
  },
  {
   "attachments": {},
   "cell_type": "markdown",
   "metadata": {},
   "source": [
    "\n",
    "## Problem 1 \n",
    "Suppose that $\\alpha$ and $\\beta$ are natural column operations and $\\gamma$ and $\\delta$ are are natural row operations on $m \\times n$ matrices. \n",
    "- (i): Show that the composite natural operation $\\alpha \\circ \\beta$ is given by the multiplication $\\beta(I_n) \\, \\alpha(I_n)$ . \n",
    "- (ii): Show that the matrix associated to the composite natural operation $\\gamma \\circ \\delta$ is given by the multiplication $ \\gamma(I_m) \\, \\delta(I_m)$.\n"
   ]
  },
  {
   "attachments": {},
   "cell_type": "markdown",
   "metadata": {},
   "source": [
    "## Problem 2 \n",
    "Give two examples of non-natural column operations $\\alpha$ and $\\beta$. Find matrices $A$ and $B$ such that \n",
    "$A \\, \\alpha (I) \\neq \\alpha (A) $ and $B\\,  \\alpha (I) \\neq \\beta (B)$. "
   ]
  },
  {
   "attachments": {},
   "cell_type": "markdown",
   "metadata": {},
   "source": [
    "## Problem 3 \n",
    "Suppose $P$ is an $(k_1 + k_2) \\times m$ matrix which is  partitioned in two block: \n",
    "\n",
    "$$\n",
    "P =\\left[ \n",
    "\\begin{array}{c}\n",
    "    B  \\\\ \\hline\n",
    "    C \n",
    "\\end{array}\n",
    "\\right]\n",
    "$$\n",
    "\n",
    "where $B$ is a $k_1 \\times m$ matrix and $C$ is a $k_2 \\times m$ matrix. Also, suppose $Q$ is an $m \\times (n_1 + n_2)$ matrix which is partitioned in two block as follows: \n",
    "\n",
    "$$\n",
    "Q = \\left[ \n",
    "\\begin{array}{c|c}\n",
    "    E \\, & F\n",
    "\\end{array}\n",
    "\\right]\n",
    "$$\n",
    "\n",
    "Here $E$ is a $m \\times n_1$ matrix and $F$ is a an $m \\times n_2$ matrix. \n",
    "\n",
    "Using multiplication by columns of $P$, show that the multiplication $P \\, Q$ can be partitioned into four smaller matrices as follows:\n",
    "$$\n",
    "C=\\left[\n",
    "\\begin{array}{c|c}\n",
    "B E  & B F \\\\ \\hline\n",
    "C E &  C F\n",
    "\\end{array}\n",
    "\\right]\n",
    "$$\n",
    "\n",
    "How does this relate to the outer product of vectors? \n"
   ]
  },
  {
   "attachments": {},
   "cell_type": "markdown",
   "metadata": {},
   "source": [
    "## Problem 4\n",
    "Fix $100$ distinct points $t_0, \\ldots, t_{99}$ in the interval  $I = [ -1 ,1 ]$. Consider the map $L \\colon \\mathbb{R}^{200} \\to \\mathbb{R}^{100}$ defined by the assignment \n",
    "$$ c = (c_0,...,c_{199}) \\mapsto (p_c(t_0),...,p_c(t_{99})) $$ \n",
    "where \n",
    "$p_c = \\sum_{i=0}^{i=199} c_i x^i$, i.e. from vectors of coefficients of polynomials of degree $\\leq 199$ to the vectors $(p_c(t_i))_{i=0}^{99}$ of values of such polynomials at nodes $t_i$.\n",
    "\n",
    "\n",
    "- Show that $L$ is linear. \n",
    "- Show that this map is represented, upon choosing the standard basis in $\\mathbb{R}^{200}$ and $\\mathbb{R}^{100}$, by the $100 \\times 200$ _Vendermonde_ matrix. \n",
    "\n",
    "$$ \\begin{bmatrix}\n",
    "1 & t_0 & t_0^2 & \\dots & t_0^{199}\\\\\n",
    "1 & t_1 & t_1^2 & \\dots & t_1^{199}\\\\\n",
    "1 & t_2 & t_2^2 & \\dots & t_2^{199}\\\\\n",
    "\\vdots & \\vdots & \\vdots & \\ddots &\\vdots \\\\\n",
    "1 & t_{99} & x_{99}^2 & \\dots & t_{99}^{199}\n",
    "\\end{bmatrix} $$\n",
    "\n",
    "- When is this linear map invertible?\n"
   ]
  },
  {
   "attachments": {},
   "cell_type": "markdown",
   "metadata": {},
   "source": [
    "## Problem 5 \n"
   ]
  },
  {
   "attachments": {},
   "cell_type": "markdown",
   "metadata": {},
   "source": [
    "To the nodes $t_0, \\ldots, t_{99}$ of the previous problem we associate $100$ polynomials (the so-called Lagrange polynomials). For each $i$ between $0$ and $99$, we have a polynomial $\\ell_i$ given as follows:\n",
    "$$\\begin{aligned}\n",
    "\\ell_i(x) &= \\frac{(x - t_0)}{(t_i - t_0)} \\cdots \\frac{(x - t_{i-1})}{(t_i - t_{i - 1})} \\frac{(x - t_{i+1})}{(t_i - t_{i+1})} \\cdots \\frac{(x - t_{99})}{(t_i - t_{99})} \\\\[10mu]\n",
    "&= \\prod_{\\begin{smallmatrix}0\\le m\\le 99 \\\\ m\\neq i \\end{smallmatrix}} \\frac{x-t_m}{t_i - t_m}.\n",
    "\\end{aligned}$$\n",
    "\n",
    "- Show that the degree of each $\\ell_i$ is 100. \n",
    "- Show that $\\ell_i (t_j) = \\delta_{ij}$ where $\\delta_{ij} = 1$ if $i =j$ and $0$ otherwise. \n",
    "- Show that $\\ell_i$ form a basis for the space of polynomials of degree $\\le 99$. \n",
    "- Suppose we know the values of a function $f$ on the nodes $t_0, \\ldots, t_{99}$, i.e. we know $100$ values $y_0 = f(t_0), \\ldots, y_{99} = f(t_{99})$ . Find a linear combination $\\sum{c_i \\ell_i}$ of polynomials $\\ell_i$ which agrees with the values $y_0, \\ldots,y_{99}$ at nodes $t_0, \\ldots, t_{99}$, respectively.  "
   ]
  },
  {
   "attachments": {},
   "cell_type": "markdown",
   "metadata": {},
   "source": [
    "## Problem 5\n",
    "Using the concept of matrix conjugation, write a `NumPy` code which \n",
    "1. takes the vector $v = \\begin{bmatrix} 1.1 \\\\ 2.2 \\end{bmatrix}$ in the basis \n",
    "$$\n",
    "\\mathbf{a} = \\begin{bmatrix} 2 \\\\ 1 \\end{bmatrix},  \\quad\n",
    "\\mathbf{b} = \\begin{bmatrix} 1 \\\\ 2 \\end{bmatrix}  \n",
    "$$\n",
    "2. rotates the vector $v$ ninty degrees counter-clockwise, and \n",
    "3. then expresses the result in the basis $\\mathbf{a}$ and $\\mathbf{b}$. "
   ]
  },
  {
   "cell_type": "markdown",
   "metadata": {},
   "source": []
  }
 ],
 "metadata": {
  "kernelspec": {
   "display_name": "base",
   "language": "python",
   "name": "python3"
  },
  "language_info": {
   "name": "python",
   "version": "3.9.13 (main, Aug 25 2022, 18:29:29) \n[Clang 12.0.0 ]"
  },
  "orig_nbformat": 4,
  "vscode": {
   "interpreter": {
    "hash": "e7943809e827f2ce7da8c5b2d12a479f6c08cd6fd5cc5e4389af6fb02edc8fdc"
   }
  }
 },
 "nbformat": 4,
 "nbformat_minor": 2
}
