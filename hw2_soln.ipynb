{
 "cells": [
  {
   "cell_type": "code",
   "execution_count": 157,
   "metadata": {},
   "outputs": [],
   "source": [
    "import numpy as np"
   ]
  },
  {
   "attachments": {},
   "cell_type": "markdown",
   "metadata": {},
   "source": [
    "**SymPy** is the Python library for symbolic computations (a.k.a., computer algebra system). SymPy has a [`Matrix`](https://docs.sympy.org/latest/tutorial/matrices.html) data type with many advanced methods. We could have done this homework without Sympy; the advantage is that SymPy can display beautiful symbolic mathematics."
   ]
  },
  {
   "attachments": {},
   "cell_type": "markdown",
   "metadata": {},
   "source": [
    "We create the $4 \\times 4$ matrix $P$ of transition probabilities. Here the rows represent the \"destinations\" and the columns represent the \"departures\" (to and from). "
   ]
  },
  {
   "cell_type": "code",
   "execution_count": 190,
   "metadata": {},
   "outputs": [],
   "source": [
    "import sympy\n",
    "\n",
    "sympy.init_printing(use_latex = 'mathjax') #configures the display of mathematics\n",
    "\n",
    "\n",
    "from sympy import init_printing\n",
    "init_printing() "
   ]
  },
  {
   "cell_type": "code",
   "execution_count": 159,
   "metadata": {},
   "outputs": [
    {
     "data": {
      "text/latex": [
       "$\\displaystyle \\left[\\begin{matrix}0.8 & 0.3 & 0.2 & 0\\\\0.1 & 0.2 & 0.6 & 0\\\\0.1 & 0.5 & 0.2 & 0\\\\0 & 0 & 0 & 1.0\\end{matrix}\\right]$"
      ],
      "text/plain": [
       "⎡0.8  0.3  0.2   0 ⎤\n",
       "⎢                  ⎥\n",
       "⎢0.1  0.2  0.6   0 ⎥\n",
       "⎢                  ⎥\n",
       "⎢0.1  0.5  0.2   0 ⎥\n",
       "⎢                  ⎥\n",
       "⎣ 0    0    0   1.0⎦"
      ]
     },
     "execution_count": 159,
     "metadata": {},
     "output_type": "execute_result"
    }
   ],
   "source": [
    "P = sympy.Matrix([[0.8, 0.1, 0.1, 0.0], \n",
    "              [0.3, 0.2, 0.5, 0.0], \n",
    "              [0.2, 0.6, 0.2, 0.0], \n",
    "              [0.0, 0.0, 0.0, 1.0]]).T\n",
    "\n",
    "P"
   ]
  },
  {
   "attachments": {},
   "cell_type": "markdown",
   "metadata": {},
   "source": [
    "As we see the first column of the matrix above displays all the transitional probabilities from Charlotte to different cities (including Charlotte itself). This is a Markov matrix since the sum of all probabilities in each column add up to $1$. The reason is given a car in Charlotte either it stays in Charlotte or it leaves it to somewhere else. There is not other possibility. "
   ]
  },
  {
   "attachments": {},
   "cell_type": "markdown",
   "metadata": {},
   "source": [
    "Let $\\ell^{(k)} = [\\ell_1^{(k)},\\ell_2^{(k)}, \\ell_3^{(k)}, \\ell_4^{(k)}]^T$  be a vector in $\\mathbb{R}^4$ that gives the probabilities that a car will be at each of the locations after $k$ rentals, i.e. $\\ell_1^{(k)}$ is the probability that it will be in Charlotte after $k$ rentals. If a car is initially at location 2 (Raleigh), then $\\ell^{(0)} = [0,1,0,0]^T$ and $\\ell^{(1)} = P \\ell^{(0)}$. Similarly, $\\ell^{(k)} = P^k \\ell^{(0)}$. Starting with a distribution $\\ell$ after $k$ rentals, we have \n",
    "\n",
    "$$  (P \\, \\ell)_i = \\sum_{j=1}^{4}{p_{ij} \\, \\ell_j} $$\n",
    "\n",
    "Note that $p_{ij}$ is the probability of a car leaving the city $j$ and arriving in the city $i$. The sum therefore is the total probability of a car being in the city $i$ after $k + 1$. "
   ]
  },
  {
   "attachments": {},
   "cell_type": "markdown",
   "metadata": {},
   "source": [
    "We want to write a program which calculates $\\ell^{(k)}$ for $k = 1, 2, 3, 4, 5, 6, 7, 8, 9, 10$ when a car starts at \n",
    "- location 1 (Charlotte)\n",
    "- at location 3 (Durham)\n",
    "- at location 4 (Fairbanks)\n",
    "  \n",
    "To do this we need to compute $P^k e_1$, $P^k e_3$ and $P^k e_4$ where $e_i$ are the standard orthonormal basis for $\\mathbb{R}^4$. "
   ]
  },
  {
   "attachments": {},
   "cell_type": "markdown",
   "metadata": {},
   "source": [
    "### Defining a list of vectors by applying a matrix to an initial vector recursively"
   ]
  },
  {
   "cell_type": "code",
   "execution_count": 160,
   "metadata": {},
   "outputs": [],
   "source": [
    "def iterate_matrix(matrix, vector, num_iter):\n",
    "    # Takes a matrix and an initial vector, and generates a list of vectors starting with that initial vector and multiplies the vector by that matrix for a certain number of iterations.\n",
    "\n",
    "    # Initialize the list of vectors\n",
    "    vector_list = [vector]\n",
    "\n",
    "    # Iterate the initial vector with the matrix for the specified number of iterations\n",
    "    for i in range(num_iter):\n",
    "        vector = np.matmul(matrix, vector)\n",
    "        vector_list.append(vector)\n",
    "\n",
    "    # Return the list of vectors\n",
    "    return vector_list"
   ]
  },
  {
   "attachments": {},
   "cell_type": "markdown",
   "metadata": {},
   "source": [
    "### Starting at Charlotte"
   ]
  },
  {
   "cell_type": "code",
   "execution_count": 161,
   "metadata": {},
   "outputs": [
    {
     "name": "stdout",
     "output_type": "stream",
     "text": [
      "The initial state vector is [1 0 0 0]\n",
      "The state vector after 0 rental is [1 0 0 0]\n",
      "The state vector after 1 rental is [0.800000000000000 0.100000000000000 0.100000000000000 0]\n",
      "The state vector after 2 rental is [0.690000000000000 0.160000000000000 0.150000000000000 0]\n",
      "The state vector after 3 rental is [0.630000000000000 0.191000000000000 0.179000000000000 0]\n",
      "The state vector after 4 rental is [0.597100000000000 0.208600000000000 0.194300000000000 0]\n",
      "The state vector after 5 rental is [0.579120000000000 0.218010000000000 0.202870000000000 0]\n",
      "The state vector after 6 rental is [0.569273000000000 0.223236000000000 0.207491000000000 0]\n",
      "The state vector after 7 rental is [0.563887400000000 0.226069100000000 0.210043500000000 0]\n",
      "The state vector after 8 rental is [0.560939350000000 0.227628660000000 0.211431990000000 0]\n",
      "The state vector after 9 rental is [0.559326476000000 0.228478861000000 0.212194663000000 0]\n",
      "The state vector after 10 rental is [0.558443771700000 0.228945217600000 0.212611010700000 0]\n",
      "The state vector after 11 rental is [0.557960784780000 0.229200027110000 0.212839188110000 0]\n",
      "The state vector after 12 rental is [0.557696473579000 0.229339596766000 0.212963929655000 0]\n",
      "The state vector after 13 rental is [0.557551843824000 0.229415924504100 0.213032231671900 0]\n",
      "The state vector after 14 rental is [0.557472698744810 0.229457708286360 0.213069592968830 0]\n",
      "The state vector after 15 rental is [0.557429390075523 0.229480567313051 0.213090042611427 0]\n",
      "The state vector after 16 rental is [0.557405690776619 0.229493078037019 0.213101231186363 0]\n",
      "The state vector after 17 rental is [0.557392722269673 0.229499923396884 0.213107354333444 0]\n",
      "The state vector after 18 rental is [0.557385625701493 0.229503669506410 0.213110704792098 0]\n",
      "The state vector after 19 rental is [0.557381742371537 0.229505719346690 0.213112538281774 0]\n"
     ]
    }
   ],
   "source": [
    "l0 = np.array([1,0,0,0])\n",
    "print(\"The initial state vector is\", l0)\n",
    "\n",
    "list_of_state_vecs = iterate_matrix(P, l0, 20)\n",
    "\n",
    "for i in range(20):\n",
    "    print( \"The state vector after\", str(i), \"rental is\", list_of_state_vecs[i])"
   ]
  },
  {
   "attachments": {},
   "cell_type": "markdown",
   "metadata": {},
   "source": [
    "### Starting at Durham "
   ]
  },
  {
   "cell_type": "code",
   "execution_count": 162,
   "metadata": {},
   "outputs": [
    {
     "name": "stdout",
     "output_type": "stream",
     "text": [
      "The initial state vector is [0 0 1 0]\n",
      "The state vector after 0 rental is [0 0 1 0]\n",
      "The state vector after 1 rental is [0.200000000000000 0.600000000000000 0.200000000000000 0]\n",
      "The state vector after 2 rental is [0.380000000000000 0.260000000000000 0.360000000000000 0]\n",
      "The state vector after 3 rental is [0.454000000000000 0.306000000000000 0.240000000000000 0]\n",
      "The state vector after 4 rental is [0.503000000000000 0.250600000000000 0.246400000000000 0]\n",
      "The state vector after 5 rental is [0.526860000000000 0.248260000000000 0.224880000000000 0]\n",
      "The state vector after 6 rental is [0.540942000000000 0.237266000000000 0.221792000000000 0]\n",
      "The state vector after 7 rental is [0.548291800000000 0.234622600000000 0.217085600000000 0]\n",
      "The state vector after 8 rental is [0.552437340000000 0.232005060000000 0.215557600000000 0]\n",
      "The state vector after 9 rental is [0.554662910000000 0.230979306000000 0.214357784000000 0]\n",
      "The state vector after 10 rental is [0.555895676600000 0.230276822600000 0.213827500800000 0]\n",
      "The state vector after 11 rental is [0.556565088220000 0.229941432660000 0.213493479120000 0]\n",
      "The state vector after 12 rental is [0.556933196198000 0.229740882826000 0.213325920976000 0]\n",
      "The state vector after 13 rental is [0.557134006001400 0.229637048770600 0.213228945228000 0]\n",
      "The state vector after 14 rental is [0.557244108477900 0.229578177491060 0.213177714031040 0]\n",
      "The state vector after 15 rental is [0.557304282835846 0.229546674764626 0.213149042399528 0]\n",
      "The state vector after 16 rental is [0.557337237177971 0.229529188676227 0.213133574145803 0]\n",
      "The state vector after 17 rental is [0.557355261174405 0.229519705940524 0.213125032885071 0]\n",
      "The state vector after 18 rental is [0.557365127298696 0.229514487036588 0.213120385664717 0]\n",
      "The state vector after 19 rental is [0.557370525082876 0.229511641536017 0.213117833381107 0]\n"
     ]
    }
   ],
   "source": [
    "l0 = np.array([0,0,1,0])\n",
    "print(\"The initial state vector is\", l0)\n",
    "\n",
    "list_of_state_vecs = iterate_matrix(P, l0, 20)\n",
    "\n",
    "for i in range(20):\n",
    "    print( \"The state vector after\", str(i), \"rental is\", list_of_state_vecs[i])"
   ]
  },
  {
   "attachments": {},
   "cell_type": "markdown",
   "metadata": {},
   "source": [
    "### Starting at Fairbanks"
   ]
  },
  {
   "cell_type": "code",
   "execution_count": 163,
   "metadata": {},
   "outputs": [
    {
     "name": "stdout",
     "output_type": "stream",
     "text": [
      "The initial state vector is [0 0 0 1]\n",
      "The state vector after 0 rental is [0 0 0 1]\n",
      "The state vector after 1 rental is [0 0 0 1.00000000000000]\n",
      "The state vector after 2 rental is [0 0 0 1.00000000000000]\n",
      "The state vector after 3 rental is [0 0 0 1.00000000000000]\n",
      "The state vector after 4 rental is [0 0 0 1.00000000000000]\n",
      "The state vector after 5 rental is [0 0 0 1.00000000000000]\n",
      "The state vector after 6 rental is [0 0 0 1.00000000000000]\n",
      "The state vector after 7 rental is [0 0 0 1.00000000000000]\n",
      "The state vector after 8 rental is [0 0 0 1.00000000000000]\n",
      "The state vector after 9 rental is [0 0 0 1.00000000000000]\n",
      "The state vector after 10 rental is [0 0 0 1.00000000000000]\n",
      "The state vector after 11 rental is [0 0 0 1.00000000000000]\n",
      "The state vector after 12 rental is [0 0 0 1.00000000000000]\n",
      "The state vector after 13 rental is [0 0 0 1.00000000000000]\n",
      "The state vector after 14 rental is [0 0 0 1.00000000000000]\n",
      "The state vector after 15 rental is [0 0 0 1.00000000000000]\n",
      "The state vector after 16 rental is [0 0 0 1.00000000000000]\n",
      "The state vector after 17 rental is [0 0 0 1.00000000000000]\n",
      "The state vector after 18 rental is [0 0 0 1.00000000000000]\n",
      "The state vector after 19 rental is [0 0 0 1.00000000000000]\n"
     ]
    }
   ],
   "source": [
    "l0 = np.array([0,0,0,1])\n",
    "print(\"The initial state vector is\", l0)\n",
    "\n",
    "list_of_state_vecs = iterate_matrix(P, l0, 20)\n",
    "\n",
    "for i in range(20):\n",
    "    print( \"The state vector after\", str(i), \"rental is\", list_of_state_vecs[i])"
   ]
  },
  {
   "attachments": {},
   "cell_type": "markdown",
   "metadata": {},
   "source": [
    "### Conclusion (After 20 rentals)\n",
    "\n",
    "These calculations reveals the main feature of the long term behavior of the Markov chains, that in the long-term, what matters is the transition probabilities, not the initial states.\n",
    "\n",
    "For all of the remaining connected points, we see that no matter where we begin, after 20 rentals, we have approximately the same probability distributions. \n",
    "\n",
    "For Fairbanks (the isolated node), we have 0 probability to \"leave\" Fairbanks, so for any number of rentals, any car Fairbanks will always remain in Fairbanks. This observation applies to the isolated nodes of the transition graph. "
   ]
  },
  {
   "attachments": {},
   "cell_type": "markdown",
   "metadata": {},
   "source": [
    "## Finding the eigenvectors with the eigenvalue 1"
   ]
  },
  {
   "cell_type": "code",
   "execution_count": 164,
   "metadata": {},
   "outputs": [
    {
     "data": {
      "text/latex": [
       "$\\displaystyle \\left[\\begin{matrix}1.0 & 0 & 0 & 0\\\\0 & 0.547213595499958 & 0 & 0\\\\0 & 0 & -0.347213595499958 & 0\\\\0 & 0 & 0 & 1.0\\end{matrix}\\right]$"
      ],
      "text/plain": [
       "⎡1.0          0                  0            0 ⎤\n",
       "⎢                                               ⎥\n",
       "⎢ 0   0.547213595499958          0            0 ⎥\n",
       "⎢                                               ⎥\n",
       "⎢ 0           0          -0.347213595499958   0 ⎥\n",
       "⎢                                               ⎥\n",
       "⎣ 0           0                  0           1.0⎦"
      ]
     },
     "execution_count": 164,
     "metadata": {},
     "output_type": "execute_result"
    }
   ],
   "source": [
    "X, D = P.diagonalize()\n",
    "D"
   ]
  },
  {
   "attachments": {},
   "cell_type": "markdown",
   "metadata": {},
   "source": [
    "Nice, we found two repetitions of eigenvalue 1 (multiplicity = 2). Recall that $X$ is the vector of eigenvectors. The first column of $X$ returns the first eigenvector (with eigenvalue 1) and the second column of $X$ returns the second eigenvector. "
   ]
  },
  {
   "cell_type": "code",
   "execution_count": 165,
   "metadata": {},
   "outputs": [
    {
     "data": {
      "text/latex": [
       "$\\displaystyle \\left[\\begin{matrix}0.871794871794872 & -0.903137540019627 & -0.0791472598672617 & 0\\\\0.358974358974359 & 0.47673383506649 & 0.749693605928385 & 0\\\\0.333333333333333 & 0.426403704953138 & -0.670546346061124 & 0\\\\0 & 0 & 0 & 1.0\\end{matrix}\\right]$"
      ],
      "text/plain": [
       "⎡0.871794871794872  -0.903137540019627  -0.0791472598672617   0 ⎤\n",
       "⎢                                                               ⎥\n",
       "⎢0.358974358974359   0.47673383506649    0.749693605928385    0 ⎥\n",
       "⎢                                                               ⎥\n",
       "⎢0.333333333333333  0.426403704953138   -0.670546346061124    0 ⎥\n",
       "⎢                                                               ⎥\n",
       "⎣        0                  0                    0           1.0⎦"
      ]
     },
     "execution_count": 165,
     "metadata": {},
     "output_type": "execute_result"
    }
   ],
   "source": [
    "X"
   ]
  },
  {
   "attachments": {},
   "cell_type": "markdown",
   "metadata": {},
   "source": [
    "We should use the the first column of $X$ should to get our steady state (the more interesting one). However, we are not quite there. We need to *normalize* the first eigenvector to make all its entries sum up to 1. This normalization is with respect to the 1-norm, i.e. sum of the absolute values of the entries of the vector. In NumPy, you can use the `linalg` module to compute the 1-norm of a vector by `np.linalg.norm(v, ord=1)` and then divide each element of the vector by the norm to normalize it. "
   ]
  },
  {
   "cell_type": "code",
   "execution_count": 167,
   "metadata": {},
   "outputs": [
    {
     "data": {
      "text/latex": [
       "$\\displaystyle \\left[\\begin{matrix}0.871794871794872\\\\0.358974358974359\\\\0.333333333333333\\\\0\\end{matrix}\\right]$"
      ],
      "text/plain": [
       "⎡0.871794871794872⎤\n",
       "⎢                 ⎥\n",
       "⎢0.358974358974359⎥\n",
       "⎢                 ⎥\n",
       "⎢0.333333333333333⎥\n",
       "⎢                 ⎥\n",
       "⎣        0        ⎦"
      ]
     },
     "execution_count": 167,
     "metadata": {},
     "output_type": "execute_result"
    }
   ],
   "source": [
    "X[ : , 0] # the first column of X"
   ]
  },
  {
   "attachments": {},
   "cell_type": "markdown",
   "metadata": {},
   "source": [
    "Now, we need to normalize it with respect to the 1-norm: "
   ]
  },
  {
   "cell_type": "code",
   "execution_count": 213,
   "metadata": {},
   "outputs": [],
   "source": [
    "first_steady_vec = X[ : , 0]\n",
    "second_steady_vec = X[ : , 3]\n",
    "\n",
    "def one_norm_normalize (vec) : \n",
    "    return (vec / np.linalg.norm(vec, ord=1))\n",
    "\n",
    "\n",
    "\n",
    "first_steady_vec_normalized = one_norm_normalize (first_steady_vec)\n",
    "second_steady_vec_normalized = one_norm_normalize (second_steady_vec)"
   ]
  },
  {
   "cell_type": "code",
   "execution_count": 214,
   "metadata": {},
   "outputs": [
    {
     "data": {
      "text/latex": [
       "$\\displaystyle \\left[\\begin{matrix}0.557377049180328\\\\0.229508196721311\\\\0.213114754098361\\\\0\\end{matrix}\\right]$"
      ],
      "text/plain": [
       "⎡0.557377049180328⎤\n",
       "⎢                 ⎥\n",
       "⎢0.229508196721311⎥\n",
       "⎢                 ⎥\n",
       "⎢0.213114754098361⎥\n",
       "⎢                 ⎥\n",
       "⎣        0        ⎦"
      ]
     },
     "execution_count": 214,
     "metadata": {},
     "output_type": "execute_result"
    }
   ],
   "source": [
    "first_steady_vec_normalized"
   ]
  },
  {
   "attachments": {},
   "cell_type": "markdown",
   "metadata": {},
   "source": [
    "We can see that $\\ell^k$ converges to the steady state vector above for any initial state which is not $[0,0,0,1]^T$. This justifies our notation $\\ell^\\infty$ for the steady state vector."
   ]
  },
  {
   "cell_type": "code",
   "execution_count": 215,
   "metadata": {},
   "outputs": [
    {
     "data": {
      "text/latex": [
       "$\\displaystyle \\left[\\begin{matrix}0\\\\0\\\\0\\\\1.0\\end{matrix}\\right]$"
      ],
      "text/plain": [
       "⎡ 0 ⎤\n",
       "⎢   ⎥\n",
       "⎢ 0 ⎥\n",
       "⎢   ⎥\n",
       "⎢ 0 ⎥\n",
       "⎢   ⎥\n",
       "⎣1.0⎦"
      ]
     },
     "execution_count": 215,
     "metadata": {},
     "output_type": "execute_result"
    }
   ],
   "source": [
    "second_steady_vec_normalized"
   ]
  },
  {
   "attachments": {},
   "cell_type": "markdown",
   "metadata": {},
   "source": [
    "No surprise here, since every car in Fairbanks remains there, the effect of matrix $P$ on the distribution of the second steady state is neutral. With this in mind we can break up the graph of our transition probabilities in two separated components and analyze them separately. "
   ]
  },
  {
   "attachments": {},
   "cell_type": "markdown",
   "metadata": {},
   "source": [
    "If we wanted, we could have defined the 1-norm manually. In Sympy: "
   ]
  },
  {
   "cell_type": "code",
   "execution_count": 207,
   "metadata": {},
   "outputs": [
    {
     "name": "stdout",
     "output_type": "stream",
     "text": [
      "Matrix([[0.557377049180328], [0.229508196721311], [0.213114754098361], [0]])\n"
     ]
    }
   ],
   "source": [
    "def l1_normalize(v):\n",
    "    \"\"\"\n",
    "    Computes the L1-normalization of a SymPy Matrix or column vector.\n",
    "    \"\"\"\n",
    "    return Matrix(v) / sum(abs(x) for x in v)\n",
    "\n",
    "first_normalized = l1_normalize(first_steady_vec)\n",
    "\n",
    "# Print the normalized vector\n",
    "print(first_normalized)"
   ]
  },
  {
   "attachments": {},
   "cell_type": "markdown",
   "metadata": {},
   "source": [
    "The total number of cars is 1000. \n",
    "\n",
    "- Assuming there are $f$ cars in Fairbanks, we need exactly $f$ parking spaces in Fairbanks since no car is leaving there and no car from a different city comes in there. There will be $1000 -f$ cars commuting between three other cities. \n",
    "- The numbers of cars in Charlotte will converge to $0.55735 \\times (1000 -f)$  so it would need at least \n",
    "$\\lceil 0.55735 \\times (1000 -f) \\rceil$ parking spots. \n",
    "- Over time, the numbers of cars in Raleigh will decrease to $0.22950 \\times (1000 -f)$ so it should have at least $\\lceil 0.22950 \\times (1000 -f)) \\rceil$ parking spaces.\n",
    "- The numbers of cars in Durham will converge to $0.21311 \\times (1000 -f)$ so there should be at least $\\lceil 0.21311 \\times  (1000 -f)) \\rceil$ parking spaces. \n",
    "\n",
    "\n",
    "\n",
    "\n",
    "#### Special case\n",
    "If the cars are initially evenly distributed throughout the four cities, with $250$ cars at each station, Fairbanks would maintain its fleet of $250$ cars, but the other three cities would reach their equilibrium point. We can apply the analysis above to the case when $f = 250$. The numbers of cars in Charlotte will converge to 418.02 cars so it would need at least $419$ parking spots. Over time, the numbers of cars in Raleigh will decrease to 172.1 so it should have at least $173$ parking spaces. The numbers of cars in Durham will converge to $159.8$ so there should be at least $160$ parking spaces. \n"
   ]
  },
  {
   "cell_type": "code",
   "execution_count": 224,
   "metadata": {},
   "outputs": [
    {
     "data": {
      "image/png": "[encoded data removed]",
      "text/latex": [
       "$\\displaystyle 419.0$"
      ],
      "text/plain": [
       "419.0"
      ]
     },
     "execution_count": 224,
     "metadata": {},
     "output_type": "execute_result"
    }
   ],
   "source": [
    "np.ceil(0.55737 * (1000 - 250))"
   ]
  },
  {
   "cell_type": "code",
   "execution_count": 225,
   "metadata": {},
   "outputs": [
    {
     "data": {
      "image/png": "[encoded data removed]",
      "text/latex": [
       "$\\displaystyle 173.0$"
      ],
      "text/plain": [
       "173.0"
      ]
     },
     "execution_count": 225,
     "metadata": {},
     "output_type": "execute_result"
    }
   ],
   "source": [
    "np.ceil(0.22950 * (1000 - 250))"
   ]
  },
  {
   "cell_type": "code",
   "execution_count": 226,
   "metadata": {},
   "outputs": [
    {
     "data": {
      "image/png": "[encoded data removed]",
      "text/latex": [
       "$\\displaystyle 160.0$"
      ],
      "text/plain": [
       "160.0"
      ]
     },
     "execution_count": 226,
     "metadata": {},
     "output_type": "execute_result"
    }
   ],
   "source": [
    "np.ceil(0.21311 * (1000 - 250))"
   ]
  },
  {
   "attachments": {},
   "cell_type": "markdown",
   "metadata": {},
   "source": [
    "Obviously, we can imagine we start with a situation where all the cars are located in one city, say Charlotte, and therefore, $419$ spots are not enough to accommodate all the $750$ cars. However, this is unlikely, and if it happens we might look for a temporary solution. As we observed, after 20 days we are already at the equilibrium point so it makes sense to invest in building parking spaces considering the long-term trend. "
   ]
  }
 ],
 "metadata": {
  "kernelspec": {
   "display_name": "mcfds_LinAlg",
   "language": "python",
   "name": "python3"
  },
  "language_info": {
   "codemirror_mode": {
    "name": "ipython",
    "version": 3
   },
   "file_extension": ".py",
   "mimetype": "text/x-python",
   "name": "python",
   "nbconvert_exporter": "python",
   "pygments_lexer": "ipython3",
   "version": "3.10.9"
  },
  "orig_nbformat": 4,
  "vscode": {
   "interpreter": {
    "hash": "057b9ab9c9b5ff0eb274ed5a0525f1f98419cdde71a0607b1e04eb7037bd70ff"
   }
  }
 },
 "nbformat": 4,
 "nbformat_minor": 2
}
